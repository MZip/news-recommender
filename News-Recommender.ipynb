{
 "cells": [
  {
   "cell_type": "markdown",
   "metadata": {},
   "source": [
    "# BBC News Recommender"
   ]
  },
  {
   "cell_type": "markdown",
   "metadata": {},
   "source": [
    "Inspired by: https://github.com/DataBeast03/Portfolio/blob/master/NYT_Recommender/Content_Based_Recommendations.ipynb <br>\n",
    "Data from: https://www.kaggle.com/pariza/bbc-news-summary"
   ]
  },
  {
   "cell_type": "code",
   "execution_count": 1,
   "metadata": {},
   "outputs": [],
   "source": [
    "# import packages \n",
    "import numpy as np\n",
    "import glob\n",
    "from sklearn.metrics.pairwise import cosine_similarity\n",
    "from sklearn.feature_extraction.text import TfidfVectorizer"
   ]
  },
  {
   "cell_type": "code",
   "execution_count": 2,
   "metadata": {},
   "outputs": [],
   "source": [
    "article_list = glob.glob(\"data/News Articles/business/*.txt\")"
   ]
  },
  {
   "cell_type": "code",
   "execution_count": 3,
   "metadata": {},
   "outputs": [
    {
     "data": {
      "text/plain": [
       "510"
      ]
     },
     "execution_count": 3,
     "metadata": {},
     "output_type": "execute_result"
    }
   ],
   "source": [
    "len(article_list)"
   ]
  },
  {
   "cell_type": "code",
   "execution_count": 4,
   "metadata": {
    "scrolled": false
   },
   "outputs": [
    {
     "data": {
      "text/plain": [
       "['data/News Articles/business\\\\001.txt',\n",
       " 'data/News Articles/business\\\\002.txt',\n",
       " 'data/News Articles/business\\\\003.txt',\n",
       " 'data/News Articles/business\\\\004.txt']"
      ]
     },
     "execution_count": 4,
     "metadata": {},
     "output_type": "execute_result"
    }
   ],
   "source": [
    "article_list[:4]"
   ]
  },
  {
   "cell_type": "code",
   "execution_count": 5,
   "metadata": {},
   "outputs": [
    {
     "data": {
      "text/plain": [
       "'Ad sales boost Time Warner profit\\n\\nQuarterly profits at US media giant TimeWarner jumped 76% to $1.13bn (Â£600m) for the three months to December, from $639m year-earlier.\\n\\nThe firm, which is now one '"
      ]
     },
     "execution_count": 5,
     "metadata": {},
     "output_type": "execute_result"
    }
   ],
   "source": [
    "f = open(article_list[0], \"r\")\n",
    "f.read()[:200]"
   ]
  },
  {
   "cell_type": "code",
   "execution_count": 6,
   "metadata": {},
   "outputs": [],
   "source": [
    "articles = [open(a, \"r\").read() for a in article_list]"
   ]
  },
  {
   "cell_type": "code",
   "execution_count": 8,
   "metadata": {},
   "outputs": [],
   "source": [
    "n = 10 # test article size\n",
    "base = articles[:-n]\n",
    "test = articles[-n:]"
   ]
  },
  {
   "cell_type": "code",
   "execution_count": 59,
   "metadata": {},
   "outputs": [],
   "source": [
    "class Recommender():\n",
    "    \n",
    "    def __init__(self, base):\n",
    "        \n",
    "        self.tfidf_vectorizer = TfidfVectorizer(stop_words='english')\n",
    "        self.tfidf_vectorizer.fit(base)\n",
    "        self.base_tfidf = self.tfidf_vectorizer.transform(base)     \n",
    "\n",
    "        \n",
    "    def top_n_recommendation_ids(self, test_article, n):\n",
    "        \n",
    "        test_tfidf = self.tfidf_vectorizer.transform([test_article])\n",
    "        \n",
    "        similarity_scores = self.base_tfidf.dot(test_tfidf.toarray().T)\n",
    "        similarity_scores = similarity_scores.reshape(-1)\n",
    "        sorted_indicies = np.flip(np.argsort(similarity_scores))\n",
    "        \n",
    "        return sorted_indicies[:n]"
   ]
  },
  {
   "cell_type": "code",
   "execution_count": 60,
   "metadata": {},
   "outputs": [],
   "source": [
    "recommender = Recommender(base)"
   ]
  },
  {
   "cell_type": "code",
   "execution_count": 81,
   "metadata": {},
   "outputs": [
    {
     "name": "stdout",
     "output_type": "stream",
     "text": [
      "UK economy ends year with spurt\n",
      "\n",
      "The UK economy grew by an estimated 3.1% in 2004 after accelerating in the last quarter of the year, says the Office for National Statistics (ONS).\n",
      "\n",
      "The figure is in line with Treasury and Bank of England forecasts. The ONS says gross domestic product (GDP) rose by a strong 0.7% in the three months to 31 December, compared with 0.5% in the previous quarter. The rise came despite a further decline in production output and the worst Christmas for retailers in decad\n"
     ]
    }
   ],
   "source": [
    "test_id = 6\n",
    "print(test[test_id][:500])"
   ]
  },
  {
   "cell_type": "code",
   "execution_count": 78,
   "metadata": {},
   "outputs": [],
   "source": [
    "rec_id = recommender.top_n_recommendation_ids(test_article=test[test_id], n=3)"
   ]
  },
  {
   "cell_type": "code",
   "execution_count": 92,
   "metadata": {},
   "outputs": [
    {
     "name": "stdout",
     "output_type": "stream",
     "text": [
      "1) UK interest rates held at 4.75%\n",
      "\n",
      "The Bank of England has left interest rates on hold again at 4.75%, in a widely-predicted move.\n",
      "\n",
      "Rates went up five times from November 2003 - as the bank sought to cool the housing market and consumer debt - but have remained unchanged since August. Recent data has indicated a slowdown in manufacturing and consumer spending, as well as in mortgage approvals. And retail sales disappointed over Christmas, with analysts putting the drop down to less consumer confidence.\n",
      "\n",
      "Rising interest rates and the accompanying slowdown in the housing market have knocked consumers' optimism, causing a sharp fall in demand for expensive goods, according to a report earlier this week from the British Retail Consortium. The BRC said Britain's retailers had endured their worst Christmas in a decade.\n",
      "\n",
      "\"Today's no change decision is correct,\" said David Frost, Director General of the British Chambers of Commerce (BCC). \"But, if there are clear signs that the economy slows, the MPC should be ready to take quick corrective action and cut rates. \"Dismal reports from the retail trade about Christmas sales are worrying, if they indicate a more general weakening in consumer spending.\"\n",
      "\n",
      "Mr Frost added: \"The housing market outlook remains highly uncertain. \"It is widely accepted that, if house prices start falling more sharply, the risks facing the economy will worsen considerably.\" CBI chief economist Ian McCafferty said the economy had \"slowed in recent months in response to rate rises\" but that it was difficult to gauge from the Christmas period the likely pace of activity through the summer. \"The Bank is having to juggle the emergence of inflationary pressures, driven by a tight labour market and buoyant commodity prices, against the risk of an over-abrupt slowdown in consumer activity,\" he said. \"Interest rates are likely to remain on hold for some time.\"\n",
      "\n",
      "On Thursday there was more gloomy news on the manufacturing front, as the Office for National (ONS) statistics revealed British manufacturing output unexpectedly fell in November - for the fifth month in the past six. The ONS said manufacturing output dropped 0.1% in November, matching a similar unrevised fall in October and confounding economists' expectations of a 0.3% rise. Manufacturers' organisation, the EEF, said it expected the hold in interest rates to continue in the near future. It also said there was evidence that manufacturers' confidence may be waning as the outlook for the world economy becomes more uncertain.\n",
      "\n",
      "\"So far the evidence suggests that last year's rate increases have helped to rebalance the economy without damaging the recovery in manufacturing,\" said EEF chief economist, Steve Radley. \"However, should the business outlook start to deteriorate, the Bank should stand ready to cut rates.\" Some economists have predicted rates will drop later in the year, although others feel the Bank may still think there is a need for a rise to 5% before that happens. The Bank remains concerned about the long-term risks posed by personal debt - which is rising at 15% a year - if economic conditions worsen.\n",
      " \n",
      "-----------------------------------------------------------------------------------------------------------------------------\n",
      "\n",
      "2) Bank holds interest rate at 4.75%\n",
      "\n",
      "The Bank of England has left interest rates on hold again at 4.75%, in a widely-predicted move.\n",
      "\n",
      "Rates went up five times from November 2003 - as the bank sought to cool the housing market and consumer debt - but have remained unchanged since August. Recent data has indicated a slowdown in manufacturing and consumer spending, as well as in mortgage approvals. And retail sales disappointed over Christmas, with analysts putting the drop down to less consumer confidence.\n",
      "\n",
      "Rising interest rates and the accompanying slowdown in the housing market have knocked consumers' optimism, causing a sharp fall in demand for expensive goods, according to a report earlier this week from the British Retail Consortium. The BRC said Britain's retailers had endured their worst Christmas in a decade.\n",
      "\n",
      "\"Today's no change decision is correct,\" said David Frost, Director General of the British Chambers of Commerce (BCC). \"But, if there are clear signs that the economy slows, the MPC should be ready to take quick corrective action and cut rates. \"Dismal reports from the retail trade about Christmas sales are worrying, if they indicate a more general weakening in consumer spending.\"\n",
      "\n",
      "Mr Frost added: \"The housing market outlook remains highly uncertain. \"It is widely accepted that, if house prices start falling more sharply, the risks facing the economy will worsen considerably.\" CBI chief economist Ian McCafferty said the economy had \"slowed in recent months in response to rate rises\" but that it was difficult to gauge from the Christmas period the likely pace of activity through the summer. \"The Bank is having to juggle the emergence of inflationary pressures, driven by a tight labour market and buoyant commodity prices, against the risk of an over-abrupt slowdown in consumer activity,\" he said. \"Interest rates are likely to remain on hold for some time.\"\n",
      "\n",
      "On Thursday there was more gloomy news on the manufacturing front, as the Office for National (ONS) statistics revealed British manufacturing output unexpectedly fell in November - for the fifth month in the past six. The ONS said manufacturing output dropped 0.1% in November, matching a similar unrevised fall in October and confounding economists' expectations of a 0.3% rise. Manufacturers' organisation, the EEF, said it expected the hold in interest rates to continue in the near future. It also said there was evidence that manufacturers' confidence may be waning as the outlook for the world economy becomes more uncertain.\n",
      "\n",
      "\"So far the evidence suggests that last year's rate increases have helped to rebalance the economy without damaging the recovery in manufacturing,\" said EEF chief economist, Steve Radley. \"However, should the business outlook start to deteriorate, the Bank should stand ready to cut rates.\" Some economists have predicted rates will drop later in the year, although others feel the Bank may still think there is a need for a rise to 5% before that happens. The Bank remains concerned about the long-term risks posed by personal debt - which is rising at 15% a year - if economic conditions worsen.\n",
      " \n",
      "-----------------------------------------------------------------------------------------------------------------------------\n",
      "\n",
      "3) Christmas sales worst since 1981\n",
      "\n",
      "UK retail sales fell in December, failing to meet expectations and making it by some counts the worst Christmas since 1981.\n",
      "\n",
      "Retail sales dropped by 1% on the month in December, after a 0.6% rise in November, the Office for National Statistics (ONS) said. The ONS revised the annual 2004 rate of growth down from the 5.9% estimated in November to 3.2%. A number of retailers have already reported poor figures for December. Clothing retailers and non-specialist stores were the worst hit with only internet retailers showing any significant growth, according to the ONS.\n",
      "\n",
      "The last time retailers endured a tougher Christmas was 23 years previously, when sales plunged 1.7%.\n",
      "\n",
      "The ONS echoed an earlier caution from Bank of England governor Mervyn King not to read too much into the poor December figures. Some analysts put a positive gloss on the figures, pointing out that the non-seasonally-adjusted figures showed a performance comparable with 2003. The November-December jump last year was roughly comparable with recent averages, although some way below the serious booms seen in the 1990s. And figures for retail volume outperformed measures of actual spending, an indication that consumers are looking for bargains, and retailers are cutting their prices.\n",
      "\n",
      "However, reports from some High Street retailers highlight the weakness of the sector. Morrisons, Woolworths, House of Fraser, Marks & Spencer and Big Food all said that the festive period was disappointing.\n",
      "\n",
      "And a British Retail Consortium survey found that Christmas 2004 was the worst for 10 years. Yet, other retailers - including HMV, Monsoon, Jessops, Body Shop and Tesco - reported that festive sales were well up on last year. Investec chief economist Philip Shaw said he did not expect the poor retail figures to have any immediate effect on interest rates. \"The retail sales figures are very weak, but as Bank of England governor Mervyn King indicated last night, you don't really get an accurate impression of Christmas trading until about Easter,\" said Mr Shaw. \"Our view is the Bank of England will keep its powder dry and wait to see the big picture.\"\n",
      " \n",
      "-----------------------------------------------------------------------------------------------------------------------------\n",
      "\n"
     ]
    }
   ],
   "source": [
    "for i,r in enumerate(rec_id):\n",
    "    print(f\"{i+1}) {base[r]} \\n{'-'*125}\\n\")"
   ]
  },
  {
   "cell_type": "code",
   "execution_count": null,
   "metadata": {},
   "outputs": [],
   "source": []
  }
 ],
 "metadata": {
  "kernelspec": {
   "display_name": "Python 3",
   "language": "python",
   "name": "python3"
  },
  "language_info": {
   "codemirror_mode": {
    "name": "ipython",
    "version": 3
   },
   "file_extension": ".py",
   "mimetype": "text/x-python",
   "name": "python",
   "nbconvert_exporter": "python",
   "pygments_lexer": "ipython3",
   "version": "3.7.9"
  }
 },
 "nbformat": 4,
 "nbformat_minor": 4
}
